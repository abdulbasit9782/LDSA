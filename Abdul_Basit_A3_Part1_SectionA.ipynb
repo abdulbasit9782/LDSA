{
 "cells": [
  {
   "cell_type": "code",
   "execution_count": 7,
   "metadata": {},
   "outputs": [],
   "source": [
    "from pyspark.sql import SparkSession\n",
    "\n",
    "# (8 cores, 16gb per machine) x 5 = 40 cores\n",
    "\n",
    "# New API\n",
    "spark_session = SparkSession\\\n",
    "        .builder\\\n",
    "        .master(\"spark://192.168.2.87:7077\") \\\n",
    "        .appName(\"abdulbasit_partA\")\\\n",
    "        .config(\"spark.dynamicAllocation.enabled\", True)\\\n",
    "        .config(\"spark.shuffle.service.enabled\", True)\\\n",
    "        .config(\"spark.dynamicAllocation.executorIdleTimeout\",\"30s\")\\\n",
    "        .config(\"spark.executor.cores\",4)\\\n",
    "        .getOrCreate()\n",
    "\n",
    "# Old API (RDD)\n",
    "spark_context = spark_session.sparkContext"
   ]
  },
  {
   "cell_type": "code",
   "execution_count": 8,
   "metadata": {},
   "outputs": [
    {
     "name": "stdout",
     "output_type": "stream",
     "text": [
      "220\n"
     ]
    }
   ],
   "source": [
    "spark_context.setLogLevel(\"DEBUG\")\n",
    "\n",
    "def add(a, b):\n",
    "    # commutative and associative!\n",
    "    return a + b\n",
    "\n",
    "rdd = spark_context.parallelize([1, 2, 3, 4, 5, 6, 7, 8, 9, 10], 3)\n",
    "\n",
    "result = rdd.filter(lambda x: x % 2 == 0)\\\n",
    "            .map(lambda x: x ** 2)\\\n",
    "            .reduce(add)\n",
    "\n",
    "print(result)\n",
    "\n",
    "#See: http://spark.apache.org/docs/2.4.5/api/python/pyspark.html"
   ]
  },
  {
   "cell_type": "code",
   "execution_count": 9,
   "metadata": {},
   "outputs": [
    {
     "name": "stdout",
     "output_type": "stream",
     "text": [
      "Resumption of the session\n"
     ]
    }
   ],
   "source": [
    "lines = spark_context.textFile(\"hdfs://192.168.2.87:9000/europarl/europarl-v7.fi-en.en\")\n",
    "print(lines.first())"
   ]
  },
  {
   "cell_type": "code",
   "execution_count": 11,
   "metadata": {},
   "outputs": [
    {
     "name": "stdout",
     "output_type": "stream",
     "text": [
      "1924942\n"
     ]
    }
   ],
   "source": [
    "# Part A1.1\n",
    "#count number of lines\n",
    "\n",
    "def countno_Lines(myrdd):\n",
    "    line = myrdd.map(lambda s: 1)\n",
    "    line.persist()\n",
    "    totalno_Line = line.reduce(lambda a,b:a+b)\n",
    "    return totalno_Line\n",
    "\n",
    "en_1 = spark_context.textFile(\"hdfs://192.168.2.87:9000/europarl/europarl-v7.fi-en.en\")\n",
    "totalno_Lines_EN = countno_Lines(en_1)\n",
    "print(totalno_Lines_EN)"
   ]
  },
  {
   "cell_type": "code",
   "execution_count": 12,
   "metadata": {},
   "outputs": [
    {
     "name": "stdout",
     "output_type": "stream",
     "text": [
      "1924942\n"
     ]
    }
   ],
   "source": [
    "# A1.2\n",
    "\n",
    "fi_1 = spark_context.textFile(\"hdfs://192.168.2.87:9000/europarl/europarl-v7.fi-en.fi\")\n",
    "totalno_Lines_fi = countno_Lines(fi_1)\n",
    "print(totalno_Lines_fi)"
   ]
  },
  {
   "cell_type": "code",
   "execution_count": 13,
   "metadata": {},
   "outputs": [
    {
     "name": "stdout",
     "output_type": "stream",
     "text": [
      "Do both the files have same number of lines? True\n"
     ]
    }
   ],
   "source": [
    "# A1.3\n",
    "\n",
    "print(\"Do both the files have same number of lines? \"+ str(totalno_Lines_EN==totalno_Lines_fi) )"
   ]
  },
  {
   "cell_type": "code",
   "execution_count": 14,
   "metadata": {},
   "outputs": [
    {
     "name": "stdout",
     "output_type": "stream",
     "text": [
      "Number of Partitions for English transcripts: 3\n",
      "Number of Partitions for Finnish transcripts: 3\n"
     ]
    }
   ],
   "source": [
    "# A1.4\n",
    "\n",
    "print(\"Number of Partitions for English transcripts: \"+ str(en_1.getNumPartitions()))\n",
    "print(\"Number of Partitions for Finnish transcripts: \"+ str(fi_1.getNumPartitions()))"
   ]
  },
  {
   "cell_type": "code",
   "execution_count": 15,
   "metadata": {},
   "outputs": [],
   "source": [
    "# Fucntion of text preprocessing\n",
    "\n",
    "def pre_process(myrdd):\n",
    "    myrdd = myrdd.lower()\n",
    "    myrdd = myrdd.split(' ')\n",
    "    return myrdd\n",
    "\n",
    "en_2 = en_1.map(pre_process)\n",
    "fi_2 = fi_1.map(pre_process)"
   ]
  },
  {
   "cell_type": "code",
   "execution_count": 16,
   "metadata": {},
   "outputs": [
    {
     "data": {
      "text/plain": [
       "[['resumption', 'of', 'the', 'session'],\n",
       " ['i',\n",
       "  'declare',\n",
       "  'resumed',\n",
       "  'the',\n",
       "  'session',\n",
       "  'of',\n",
       "  'the',\n",
       "  'european',\n",
       "  'parliament',\n",
       "  'adjourned',\n",
       "  'on',\n",
       "  'friday',\n",
       "  '17',\n",
       "  'december',\n",
       "  '1999,',\n",
       "  'and',\n",
       "  'i',\n",
       "  'would',\n",
       "  'like',\n",
       "  'once',\n",
       "  'again',\n",
       "  'to',\n",
       "  'wish',\n",
       "  'you',\n",
       "  'a',\n",
       "  'happy',\n",
       "  'new',\n",
       "  'year',\n",
       "  'in',\n",
       "  'the',\n",
       "  'hope',\n",
       "  'that',\n",
       "  'you',\n",
       "  'enjoyed',\n",
       "  'a',\n",
       "  'pleasant',\n",
       "  'festive',\n",
       "  'period.'],\n",
       " ['although,',\n",
       "  'as',\n",
       "  'you',\n",
       "  'will',\n",
       "  'have',\n",
       "  'seen,',\n",
       "  'the',\n",
       "  'dreaded',\n",
       "  \"'millennium\",\n",
       "  \"bug'\",\n",
       "  'failed',\n",
       "  'to',\n",
       "  'materialise,',\n",
       "  'still',\n",
       "  'the',\n",
       "  'people',\n",
       "  'in',\n",
       "  'a',\n",
       "  'number',\n",
       "  'of',\n",
       "  'countries',\n",
       "  'suffered',\n",
       "  'a',\n",
       "  'series',\n",
       "  'of',\n",
       "  'natural',\n",
       "  'disasters',\n",
       "  'that',\n",
       "  'truly',\n",
       "  'were',\n",
       "  'dreadful.'],\n",
       " ['you',\n",
       "  'have',\n",
       "  'requested',\n",
       "  'a',\n",
       "  'debate',\n",
       "  'on',\n",
       "  'this',\n",
       "  'subject',\n",
       "  'in',\n",
       "  'the',\n",
       "  'course',\n",
       "  'of',\n",
       "  'the',\n",
       "  'next',\n",
       "  'few',\n",
       "  'days,',\n",
       "  'during',\n",
       "  'this',\n",
       "  'part-session.'],\n",
       " ['in',\n",
       "  'the',\n",
       "  'meantime,',\n",
       "  'i',\n",
       "  'should',\n",
       "  'like',\n",
       "  'to',\n",
       "  'observe',\n",
       "  'a',\n",
       "  \"minute'\",\n",
       "  's',\n",
       "  'silence,',\n",
       "  'as',\n",
       "  'a',\n",
       "  'number',\n",
       "  'of',\n",
       "  'members',\n",
       "  'have',\n",
       "  'requested,',\n",
       "  'on',\n",
       "  'behalf',\n",
       "  'of',\n",
       "  'all',\n",
       "  'the',\n",
       "  'victims',\n",
       "  'concerned,',\n",
       "  'particularly',\n",
       "  'those',\n",
       "  'of',\n",
       "  'the',\n",
       "  'terrible',\n",
       "  'storms,',\n",
       "  'in',\n",
       "  'the',\n",
       "  'various',\n",
       "  'countries',\n",
       "  'of',\n",
       "  'the',\n",
       "  'european',\n",
       "  'union.'],\n",
       " ['please', 'rise,', 'then,', 'for', 'this', \"minute'\", 's', 'silence.'],\n",
       " ['(the', 'house', 'rose', 'and', 'observed', 'a', \"minute'\", 's', 'silence)'],\n",
       " ['madam', 'president,', 'on', 'a', 'point', 'of', 'order.'],\n",
       " ['you',\n",
       "  'will',\n",
       "  'be',\n",
       "  'aware',\n",
       "  'from',\n",
       "  'the',\n",
       "  'press',\n",
       "  'and',\n",
       "  'television',\n",
       "  'that',\n",
       "  'there',\n",
       "  'have',\n",
       "  'been',\n",
       "  'a',\n",
       "  'number',\n",
       "  'of',\n",
       "  'bomb',\n",
       "  'explosions',\n",
       "  'and',\n",
       "  'killings',\n",
       "  'in',\n",
       "  'sri',\n",
       "  'lanka.'],\n",
       " ['one',\n",
       "  'of',\n",
       "  'the',\n",
       "  'people',\n",
       "  'assassinated',\n",
       "  'very',\n",
       "  'recently',\n",
       "  'in',\n",
       "  'sri',\n",
       "  'lanka',\n",
       "  'was',\n",
       "  'mr',\n",
       "  'kumar',\n",
       "  'ponnambalam,',\n",
       "  'who',\n",
       "  'had',\n",
       "  'visited',\n",
       "  'the',\n",
       "  'european',\n",
       "  'parliament',\n",
       "  'just',\n",
       "  'a',\n",
       "  'few',\n",
       "  'months',\n",
       "  'ago.']]"
      ]
     },
     "execution_count": 16,
     "metadata": {},
     "output_type": "execute_result"
    }
   ],
   "source": [
    "# A2.2 Part 1\n",
    "\n",
    "en_2.take(10)"
   ]
  },
  {
   "cell_type": "code",
   "execution_count": 17,
   "metadata": {},
   "outputs": [
    {
     "data": {
      "text/plain": [
       "[['istuntokauden', 'uudelleenavaaminen'],\n",
       " ['julistan',\n",
       "  'perjantaina',\n",
       "  'joulukuun',\n",
       "  '17.',\n",
       "  'päivänä',\n",
       "  'keskeytetyn',\n",
       "  'euroopan',\n",
       "  'parlamentin',\n",
       "  'istunnon',\n",
       "  'avatuksi',\n",
       "  'ja',\n",
       "  'esitän',\n",
       "  'vielä',\n",
       "  'kerran',\n",
       "  'vilpittömän',\n",
       "  'toiveeni',\n",
       "  'siitä,',\n",
       "  'että',\n",
       "  'teillä',\n",
       "  'olisi',\n",
       "  'ollut',\n",
       "  'oikein',\n",
       "  'mukava',\n",
       "  'joululoma.'],\n",
       " ['kuten',\n",
       "  'olette',\n",
       "  'varmaan',\n",
       "  'saattaneet',\n",
       "  'huomata,',\n",
       "  'vuodenvaihteeseen',\n",
       "  '2000',\n",
       "  'povattuja',\n",
       "  'suuria',\n",
       "  'tietokoneongelmia',\n",
       "  'ei',\n",
       "  'ilmennytkään.',\n",
       "  'sen',\n",
       "  'sijaan',\n",
       "  'todella',\n",
       "  'kauheat',\n",
       "  'luonnonkatastrofit',\n",
       "  'koettelivat',\n",
       "  'kansalaisia',\n",
       "  'joissakin',\n",
       "  'unionimme',\n",
       "  'maissa.'],\n",
       " ['te',\n",
       "  'olette',\n",
       "  'esittäneet',\n",
       "  'toiveen,',\n",
       "  'että',\n",
       "  'tästä',\n",
       "  'asiasta',\n",
       "  'keskusteltaisiin',\n",
       "  'lähipäivinä',\n",
       "  'tämän',\n",
       "  'istuntojakson',\n",
       "  'aikana.'],\n",
       " ['sillä',\n",
       "  'välin',\n",
       "  'toivoisin,',\n",
       "  'kuten',\n",
       "  'useampi',\n",
       "  'kollega',\n",
       "  'on',\n",
       "  'minulle',\n",
       "  'esittänytkin,',\n",
       "  'että',\n",
       "  'viettäisimme',\n",
       "  'minuutin',\n",
       "  'hiljaisuuden',\n",
       "  'kaikkien',\n",
       "  'niiden',\n",
       "  'uhrien',\n",
       "  'muistoksi,',\n",
       "  'jotka',\n",
       "  'saivat',\n",
       "  'surmansa',\n",
       "  'useita',\n",
       "  'euroopan',\n",
       "  'unionin',\n",
       "  'maita',\n",
       "  'koetelleissa',\n",
       "  'myrskyissä.'],\n",
       " ['kehotan,',\n",
       "  'että',\n",
       "  'nousette',\n",
       "  'seisomaan',\n",
       "  'tämän',\n",
       "  'minuutin',\n",
       "  'hiljaisuuden',\n",
       "  'ajaksi'],\n",
       " ['(parlamentti', 'vietti', 'seisaallaan', 'minuutin', 'hiljaisuuden.)'],\n",
       " ['arvoisa', 'puhemies,', 'käytän', 'työjärjestyspuheenvuoron.'],\n",
       " ['olette',\n",
       "  'varmaan',\n",
       "  'saaneet',\n",
       "  'tietoonne',\n",
       "  'lehdistön',\n",
       "  'ja',\n",
       "  'television',\n",
       "  'kautta,',\n",
       "  'että',\n",
       "  'sri',\n",
       "  'lankassa',\n",
       "  'on',\n",
       "  'sattunut',\n",
       "  'useita',\n",
       "  'kuolemaan',\n",
       "  'johtaneita',\n",
       "  'pommi-iskuja.'],\n",
       " ['näiden',\n",
       "  'sri',\n",
       "  'lankassa',\n",
       "  'aivan',\n",
       "  'äskettäin',\n",
       "  'surmansa',\n",
       "  'saaneiden',\n",
       "  'ihmisten',\n",
       "  'joukossa',\n",
       "  'on',\n",
       "  'kumar',\n",
       "  'ponnambalam,',\n",
       "  'joka',\n",
       "  'vieraili',\n",
       "  'parlamentissa',\n",
       "  'vain',\n",
       "  'pari',\n",
       "  'kuukautta',\n",
       "  'sitten.']]"
      ]
     },
     "execution_count": 17,
     "metadata": {},
     "output_type": "execute_result"
    }
   ],
   "source": [
    "fi_2.take(10)"
   ]
  },
  {
   "cell_type": "code",
   "execution_count": 21,
   "metadata": {},
   "outputs": [
    {
     "name": "stdout",
     "output_type": "stream",
     "text": [
      "Is line count same for the two laguages after pre processing? True\n"
     ]
    }
   ],
   "source": [
    "## A2.3\n",
    "\n",
    "total_lines_en2 = countno_Lines(en_2)\n",
    "total_lines_fi2 = countno_Lines(fi_2)\n",
    "print(\"Is line count same for the two laguages after pre processing? \"+ str(total_lines_en2==total_lines_fi2) )"
   ]
  },
  {
   "cell_type": "code",
   "execution_count": 20,
   "metadata": {},
   "outputs": [
    {
     "data": {
      "text/plain": [
       "[('the', 3631787),\n",
       " ('of', 1724191),\n",
       " ('to', 1600135),\n",
       " ('and', 1339069),\n",
       " ('in', 1127219),\n",
       " ('that', 830095),\n",
       " ('a', 803908),\n",
       " ('is', 785410),\n",
       " ('for', 553730),\n",
       " ('we', 548086)]"
      ]
     },
     "execution_count": 20,
     "metadata": {},
     "output_type": "execute_result"
    }
   ],
   "source": [
    "# A3.1 Most frequent 20 words in english\n",
    "\n",
    "en_2.flatMap(lambda a: a).map(lambda word: (word, 1)).reduceByKey(lambda a, b: a + b).sortBy(lambda a: a[1],ascending=False).take(10)"
   ]
  },
  {
   "cell_type": "code",
   "execution_count": 22,
   "metadata": {},
   "outputs": [
    {
     "data": {
      "text/plain": [
       "[('ja', 1249156),\n",
       " ('on', 1035956),\n",
       " ('että', 619655),\n",
       " ('euroopan', 257568),\n",
       " ('ei', 246268),\n",
       " ('myös', 178765),\n",
       " ('ovat', 161869),\n",
       " ('se', 152857),\n",
       " ('arvoisa', 149439),\n",
       " ('ole', 134745)]"
      ]
     },
     "execution_count": 22,
     "metadata": {},
     "output_type": "execute_result"
    }
   ],
   "source": [
    "# A3.1 Most frequent 10 words in Finnish\n",
    "\n",
    "fi_2.flatMap(lambda a: a).map(lambda word: (word, 1)).reduceByKey(lambda a, b: a + b).sortBy(lambda a: a[1],ascending=False).take(10)"
   ]
  },
  {
   "cell_type": "code",
   "execution_count": 23,
   "metadata": {},
   "outputs": [],
   "source": [
    "# A 4.1 & 4.2 Key lines with line number and swappig key and value [English]\n",
    "\n",
    "en_3 = en_2.zipWithIndex().map(lambda t : (t[1],t[0]))"
   ]
  },
  {
   "cell_type": "code",
   "execution_count": 24,
   "metadata": {},
   "outputs": [],
   "source": [
    "# A 4.1 Key lines with line number and swapping key and value [Finnsih]\n",
    "\n",
    "fi_3 = fi_2.zipWithIndex().map(lambda t : (t[1],t[0]))"
   ]
  },
  {
   "cell_type": "code",
   "execution_count": 25,
   "metadata": {},
   "outputs": [],
   "source": [
    "# A 4.3 Join the 2 RDD's together\n",
    "\n",
    "joined = en_3.join(fi_3)"
   ]
  },
  {
   "cell_type": "code",
   "execution_count": 28,
   "metadata": {},
   "outputs": [],
   "source": [
    "# A 4.4 Filter missing sentence\n",
    "\n",
    "filter_missing = joined.filter(lambda a: a[1][1] and a[1][0])"
   ]
  },
  {
   "cell_type": "code",
   "execution_count": 29,
   "metadata": {},
   "outputs": [],
   "source": [
    "# A 4.5 and 4.6 Filter \n",
    "\n",
    "filter_words_per_sentence = filter_missing.filter(lambda a: ((len(a[1][1]) < 5) and (len(a[1][0]) < 5)) and (len(a[1][1])==len(a[1][0]))   )"
   ]
  },
  {
   "cell_type": "code",
   "execution_count": 30,
   "metadata": {},
   "outputs": [],
   "source": [
    "# A 4.7 Filter and Mapping paired words\n",
    "\n",
    "pairs = filter_words_per_sentence.map(lambda a: list(zip(a[1][0],a[1][1]))).flatMap(lambda a: a).map(lambda word: (word, 1))"
   ]
  },
  {
   "cell_type": "code",
   "execution_count": 31,
   "metadata": {},
   "outputs": [],
   "source": [
    "# A 4.8 Reduce Pair Count\n",
    "\n",
    "pair_count = pairs.reduceByKey(lambda a, b: a + b).sortBy(lambda a: a[1],ascending=False)"
   ]
  },
  {
   "cell_type": "code",
   "execution_count": 32,
   "metadata": {},
   "outputs": [
    {
     "data": {
      "text/plain": [
       "[(('.', '.'), 6971),\n",
       " (('\\xa0\\xa0', '\\xa0\\xa0'), 4996),\n",
       " (('(applause)', '(suosionosoituksia)'), 2803),\n",
       " (('is', 'on'), 2437),\n",
       " (('report', 'mietintö'), 1006),\n",
       " (('closed.', 'päättynyt.'), 797),\n",
       " (('debate', 'keskustelu'), 770),\n",
       " (('this', 'tämä'), 452),\n",
       " (('applause', 'suosionosoituksia'), 444),\n",
       " (('that', 'se'), 434),\n",
       " (('1.', '1.'), 428),\n",
       " (('2.', '2.'), 423),\n",
       " (('that', 'tämä'), 407),\n",
       " (('3.', '3.'), 393),\n",
       " (('it', 'se'), 352),\n",
       " (('-', '-'), 349),\n",
       " (('why?', 'miksi?'), 338),\n",
       " (('is', 'ei'), 320),\n",
       " (('minutes', 'pöytäkirja'), 307),\n",
       " (('see', 'ks.'), 304)]"
      ]
     },
     "execution_count": 32,
     "metadata": {},
     "output_type": "execute_result"
    }
   ],
   "source": [
    "# A 4.9 Print 20 most frquent words\n",
    "\n",
    "pair_count.take(20)"
   ]
  },
  {
   "cell_type": "code",
   "execution_count": null,
   "metadata": {},
   "outputs": [],
   "source": []
  }
 ],
 "metadata": {
  "kernelspec": {
   "display_name": "Python 3",
   "language": "python",
   "name": "python3"
  },
  "language_info": {
   "codemirror_mode": {
    "name": "ipython",
    "version": 3
   },
   "file_extension": ".py",
   "mimetype": "text/x-python",
   "name": "python",
   "nbconvert_exporter": "python",
   "pygments_lexer": "ipython3",
   "version": "3.6.9"
  }
 },
 "nbformat": 4,
 "nbformat_minor": 2
}
